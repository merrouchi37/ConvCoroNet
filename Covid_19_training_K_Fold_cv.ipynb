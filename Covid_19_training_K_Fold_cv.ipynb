{
  "nbformat": 4,
  "nbformat_minor": 0,
  "metadata": {
    "colab": {
      "name": "Covid-19_training_K-Fold_cv.ipynb",
      "provenance": [],
      "collapsed_sections": [],
      "authorship_tag": "ABX9TyM8sy2t/g1G5h3N1RaoFVWh",
      "include_colab_link": true
    },
    "kernelspec": {
      "name": "python3",
      "display_name": "Python 3"
    },
    "accelerator": "GPU"
  },
  "cells": [
    {
      "cell_type": "markdown",
      "metadata": {
        "id": "view-in-github",
        "colab_type": "text"
      },
      "source": [
        "<a href=\"https://colab.research.google.com/github/merrouchi37/ConvCoroNet/blob/main/Covid_19_training_K_Fold_cv.ipynb\" target=\"_parent\"><img src=\"https://colab.research.google.com/assets/colab-badge.svg\" alt=\"Open In Colab\"/></a>"
      ]
    },
    {
      "cell_type": "code",
      "metadata": {
        "id": "KFBBIEdJK6XV",
        "outputId": "ca9f6c7d-0fa0-4e78-ff6b-e9412b5e5bd6",
        "colab": {
          "base_uri": "https://localhost:8080/"
        }
      },
      "source": [
        "import warnings\n",
        "warnings.filterwarnings('ignore')\n",
        "import os\n",
        "os.environ['TF_CPP_MIN_LOG_LEVEL'] = '2'\n",
        "from google.colab import drive\n",
        "drive.mount('/content/drive/')\n",
        "os.chdir(\"/content/drive/My Drive/app\")"
      ],
      "execution_count": null,
      "outputs": [
        {
          "output_type": "stream",
          "text": [
            "Mounted at /content/drive/\n"
          ],
          "name": "stdout"
        }
      ]
    },
    {
      "cell_type": "code",
      "metadata": {
        "id": "pc_cuDpS3ww1",
        "outputId": "5d396ec6-a7a2-48d7-f839-a4d7729ef7c3",
        "colab": {
          "base_uri": "https://localhost:8080/"
        }
      },
      "source": [
        "!pip install mlxtend --upgrade --no-deps"
      ],
      "execution_count": null,
      "outputs": [
        {
          "output_type": "stream",
          "text": [
            "Collecting mlxtend\n",
            "\u001b[?25l  Downloading https://files.pythonhosted.org/packages/4c/0d/4a73b8bc49e2cfee178fe50dd8e84d5ba817d0b2454b09308397416e0e48/mlxtend-0.17.3-py2.py3-none-any.whl (1.3MB)\n",
            "\r\u001b[K     |▎                               | 10kB 21.6MB/s eta 0:00:01\r\u001b[K     |▌                               | 20kB 16.2MB/s eta 0:00:01\r\u001b[K     |▊                               | 30kB 19.4MB/s eta 0:00:01\r\u001b[K     |█                               | 40kB 14.8MB/s eta 0:00:01\r\u001b[K     |█▏                              | 51kB 12.5MB/s eta 0:00:01\r\u001b[K     |█▌                              | 61kB 11.9MB/s eta 0:00:01\r\u001b[K     |█▊                              | 71kB 11.7MB/s eta 0:00:01\r\u001b[K     |██                              | 81kB 11.7MB/s eta 0:00:01\r\u001b[K     |██▏                             | 92kB 11.6MB/s eta 0:00:01\r\u001b[K     |██▍                             | 102kB 11.9MB/s eta 0:00:01\r\u001b[K     |██▊                             | 112kB 11.9MB/s eta 0:00:01\r\u001b[K     |███                             | 122kB 11.9MB/s eta 0:00:01\r\u001b[K     |███▏                            | 133kB 11.9MB/s eta 0:00:01\r\u001b[K     |███▍                            | 143kB 11.9MB/s eta 0:00:01\r\u001b[K     |███▋                            | 153kB 11.9MB/s eta 0:00:01\r\u001b[K     |████                            | 163kB 11.9MB/s eta 0:00:01\r\u001b[K     |████▏                           | 174kB 11.9MB/s eta 0:00:01\r\u001b[K     |████▍                           | 184kB 11.9MB/s eta 0:00:01\r\u001b[K     |████▋                           | 194kB 11.9MB/s eta 0:00:01\r\u001b[K     |████▉                           | 204kB 11.9MB/s eta 0:00:01\r\u001b[K     |█████▏                          | 215kB 11.9MB/s eta 0:00:01\r\u001b[K     |█████▍                          | 225kB 11.9MB/s eta 0:00:01\r\u001b[K     |█████▋                          | 235kB 11.9MB/s eta 0:00:01\r\u001b[K     |█████▉                          | 245kB 11.9MB/s eta 0:00:01\r\u001b[K     |██████                          | 256kB 11.9MB/s eta 0:00:01\r\u001b[K     |██████▍                         | 266kB 11.9MB/s eta 0:00:01\r\u001b[K     |██████▋                         | 276kB 11.9MB/s eta 0:00:01\r\u001b[K     |██████▉                         | 286kB 11.9MB/s eta 0:00:01\r\u001b[K     |███████                         | 296kB 11.9MB/s eta 0:00:01\r\u001b[K     |███████▎                        | 307kB 11.9MB/s eta 0:00:01\r\u001b[K     |███████▋                        | 317kB 11.9MB/s eta 0:00:01\r\u001b[K     |███████▉                        | 327kB 11.9MB/s eta 0:00:01\r\u001b[K     |████████                        | 337kB 11.9MB/s eta 0:00:01\r\u001b[K     |████████▎                       | 348kB 11.9MB/s eta 0:00:01\r\u001b[K     |████████▌                       | 358kB 11.9MB/s eta 0:00:01\r\u001b[K     |████████▉                       | 368kB 11.9MB/s eta 0:00:01\r\u001b[K     |█████████                       | 378kB 11.9MB/s eta 0:00:01\r\u001b[K     |█████████▎                      | 389kB 11.9MB/s eta 0:00:01\r\u001b[K     |█████████▌                      | 399kB 11.9MB/s eta 0:00:01\r\u001b[K     |█████████▊                      | 409kB 11.9MB/s eta 0:00:01\r\u001b[K     |██████████                      | 419kB 11.9MB/s eta 0:00:01\r\u001b[K     |██████████▎                     | 430kB 11.9MB/s eta 0:00:01\r\u001b[K     |██████████▌                     | 440kB 11.9MB/s eta 0:00:01\r\u001b[K     |██████████▊                     | 450kB 11.9MB/s eta 0:00:01\r\u001b[K     |███████████                     | 460kB 11.9MB/s eta 0:00:01\r\u001b[K     |███████████▎                    | 471kB 11.9MB/s eta 0:00:01\r\u001b[K     |███████████▌                    | 481kB 11.9MB/s eta 0:00:01\r\u001b[K     |███████████▊                    | 491kB 11.9MB/s eta 0:00:01\r\u001b[K     |████████████                    | 501kB 11.9MB/s eta 0:00:01\r\u001b[K     |████████████▏                   | 512kB 11.9MB/s eta 0:00:01\r\u001b[K     |████████████▌                   | 522kB 11.9MB/s eta 0:00:01\r\u001b[K     |████████████▊                   | 532kB 11.9MB/s eta 0:00:01\r\u001b[K     |█████████████                   | 542kB 11.9MB/s eta 0:00:01\r\u001b[K     |█████████████▏                  | 552kB 11.9MB/s eta 0:00:01\r\u001b[K     |█████████████▍                  | 563kB 11.9MB/s eta 0:00:01\r\u001b[K     |█████████████▊                  | 573kB 11.9MB/s eta 0:00:01\r\u001b[K     |██████████████                  | 583kB 11.9MB/s eta 0:00:01\r\u001b[K     |██████████████▏                 | 593kB 11.9MB/s eta 0:00:01\r\u001b[K     |██████████████▍                 | 604kB 11.9MB/s eta 0:00:01\r\u001b[K     |██████████████▋                 | 614kB 11.9MB/s eta 0:00:01\r\u001b[K     |███████████████                 | 624kB 11.9MB/s eta 0:00:01\r\u001b[K     |███████████████▏                | 634kB 11.9MB/s eta 0:00:01\r\u001b[K     |███████████████▍                | 645kB 11.9MB/s eta 0:00:01\r\u001b[K     |███████████████▋                | 655kB 11.9MB/s eta 0:00:01\r\u001b[K     |███████████████▉                | 665kB 11.9MB/s eta 0:00:01\r\u001b[K     |████████████████▏               | 675kB 11.9MB/s eta 0:00:01\r\u001b[K     |████████████████▍               | 686kB 11.9MB/s eta 0:00:01\r\u001b[K     |████████████████▋               | 696kB 11.9MB/s eta 0:00:01\r\u001b[K     |████████████████▉               | 706kB 11.9MB/s eta 0:00:01\r\u001b[K     |█████████████████               | 716kB 11.9MB/s eta 0:00:01\r\u001b[K     |█████████████████▍              | 727kB 11.9MB/s eta 0:00:01\r\u001b[K     |█████████████████▋              | 737kB 11.9MB/s eta 0:00:01\r\u001b[K     |█████████████████▉              | 747kB 11.9MB/s eta 0:00:01\r\u001b[K     |██████████████████              | 757kB 11.9MB/s eta 0:00:01\r\u001b[K     |██████████████████▎             | 768kB 11.9MB/s eta 0:00:01\r\u001b[K     |██████████████████▋             | 778kB 11.9MB/s eta 0:00:01\r\u001b[K     |██████████████████▉             | 788kB 11.9MB/s eta 0:00:01\r\u001b[K     |███████████████████             | 798kB 11.9MB/s eta 0:00:01\r\u001b[K     |███████████████████▎            | 808kB 11.9MB/s eta 0:00:01\r\u001b[K     |███████████████████▌            | 819kB 11.9MB/s eta 0:00:01\r\u001b[K     |███████████████████▉            | 829kB 11.9MB/s eta 0:00:01\r\u001b[K     |████████████████████            | 839kB 11.9MB/s eta 0:00:01\r\u001b[K     |████████████████████▎           | 849kB 11.9MB/s eta 0:00:01\r\u001b[K     |████████████████████▌           | 860kB 11.9MB/s eta 0:00:01\r\u001b[K     |████████████████████▊           | 870kB 11.9MB/s eta 0:00:01\r\u001b[K     |█████████████████████           | 880kB 11.9MB/s eta 0:00:01\r\u001b[K     |█████████████████████▎          | 890kB 11.9MB/s eta 0:00:01\r\u001b[K     |█████████████████████▌          | 901kB 11.9MB/s eta 0:00:01\r\u001b[K     |█████████████████████▊          | 911kB 11.9MB/s eta 0:00:01\r\u001b[K     |██████████████████████          | 921kB 11.9MB/s eta 0:00:01\r\u001b[K     |██████████████████████▎         | 931kB 11.9MB/s eta 0:00:01\r\u001b[K     |██████████████████████▌         | 942kB 11.9MB/s eta 0:00:01\r\u001b[K     |██████████████████████▊         | 952kB 11.9MB/s eta 0:00:01\r\u001b[K     |███████████████████████         | 962kB 11.9MB/s eta 0:00:01\r\u001b[K     |███████████████████████▏        | 972kB 11.9MB/s eta 0:00:01\r\u001b[K     |███████████████████████▌        | 983kB 11.9MB/s eta 0:00:01\r\u001b[K     |███████████████████████▊        | 993kB 11.9MB/s eta 0:00:01\r\u001b[K     |████████████████████████        | 1.0MB 11.9MB/s eta 0:00:01\r\u001b[K     |████████████████████████▏       | 1.0MB 11.9MB/s eta 0:00:01\r\u001b[K     |████████████████████████▍       | 1.0MB 11.9MB/s eta 0:00:01\r\u001b[K     |████████████████████████▊       | 1.0MB 11.9MB/s eta 0:00:01\r\u001b[K     |█████████████████████████       | 1.0MB 11.9MB/s eta 0:00:01\r\u001b[K     |█████████████████████████▏      | 1.1MB 11.9MB/s eta 0:00:01\r\u001b[K     |█████████████████████████▍      | 1.1MB 11.9MB/s eta 0:00:01\r\u001b[K     |█████████████████████████▋      | 1.1MB 11.9MB/s eta 0:00:01\r\u001b[K     |██████████████████████████      | 1.1MB 11.9MB/s eta 0:00:01\r\u001b[K     |██████████████████████████▏     | 1.1MB 11.9MB/s eta 0:00:01\r\u001b[K     |██████████████████████████▍     | 1.1MB 11.9MB/s eta 0:00:01\r\u001b[K     |██████████████████████████▋     | 1.1MB 11.9MB/s eta 0:00:01\r\u001b[K     |██████████████████████████▉     | 1.1MB 11.9MB/s eta 0:00:01\r\u001b[K     |███████████████████████████▏    | 1.1MB 11.9MB/s eta 0:00:01\r\u001b[K     |███████████████████████████▍    | 1.1MB 11.9MB/s eta 0:00:01\r\u001b[K     |███████████████████████████▋    | 1.2MB 11.9MB/s eta 0:00:01\r\u001b[K     |███████████████████████████▉    | 1.2MB 11.9MB/s eta 0:00:01\r\u001b[K     |████████████████████████████    | 1.2MB 11.9MB/s eta 0:00:01\r\u001b[K     |████████████████████████████▍   | 1.2MB 11.9MB/s eta 0:00:01\r\u001b[K     |████████████████████████████▋   | 1.2MB 11.9MB/s eta 0:00:01\r\u001b[K     |████████████████████████████▉   | 1.2MB 11.9MB/s eta 0:00:01\r\u001b[K     |█████████████████████████████   | 1.2MB 11.9MB/s eta 0:00:01\r\u001b[K     |█████████████████████████████▎  | 1.2MB 11.9MB/s eta 0:00:01\r\u001b[K     |█████████████████████████████▋  | 1.2MB 11.9MB/s eta 0:00:01\r\u001b[K     |█████████████████████████████▉  | 1.2MB 11.9MB/s eta 0:00:01\r\u001b[K     |██████████████████████████████  | 1.3MB 11.9MB/s eta 0:00:01\r\u001b[K     |██████████████████████████████▎ | 1.3MB 11.9MB/s eta 0:00:01\r\u001b[K     |██████████████████████████████▌ | 1.3MB 11.9MB/s eta 0:00:01\r\u001b[K     |██████████████████████████████▉ | 1.3MB 11.9MB/s eta 0:00:01\r\u001b[K     |███████████████████████████████ | 1.3MB 11.9MB/s eta 0:00:01\r\u001b[K     |███████████████████████████████▎| 1.3MB 11.9MB/s eta 0:00:01\r\u001b[K     |███████████████████████████████▌| 1.3MB 11.9MB/s eta 0:00:01\r\u001b[K     |███████████████████████████████▊| 1.3MB 11.9MB/s eta 0:00:01\r\u001b[K     |████████████████████████████████| 1.3MB 11.9MB/s \n",
            "\u001b[?25hInstalling collected packages: mlxtend\n",
            "  Found existing installation: mlxtend 0.14.0\n",
            "    Uninstalling mlxtend-0.14.0:\n",
            "      Successfully uninstalled mlxtend-0.14.0\n",
            "Successfully installed mlxtend-0.17.3\n"
          ],
          "name": "stdout"
        }
      ]
    },
    {
      "cell_type": "code",
      "metadata": {
        "id": "EUFZ9E7ULZyj"
      },
      "source": [
        "import tensorflow\n",
        "from tensorflow.keras.preprocessing.image import ImageDataGenerator\n",
        "from tensorflow.keras.applications import InceptionV3\n",
        "from tensorflow.keras.layers import AveragePooling2D, Dropout, Flatten, Dense, Input, GlobalAveragePooling2D, BatchNormalization, Activation\n",
        "from tensorflow.keras.models import Model\n",
        "from tensorflow.keras.callbacks import EarlyStopping, ModelCheckpoint, ReduceLROnPlateau, LearningRateScheduler\n",
        "from tensorflow.keras.optimizers import Adam,RMSprop, SGD\n",
        "from tensorflow.keras.regularizers import l2\n",
        "from sklearn.preprocessing import LabelBinarizer, LabelEncoder\n",
        "import matplotlib.pyplot as plt\n",
        "import numpy as np\n",
        "import matplotlib\n",
        "#import argparse\n",
        "import cv2\n",
        "import os\n",
        "import shutil\n",
        "import math"
      ],
      "execution_count": null,
      "outputs": []
    },
    {
      "cell_type": "code",
      "metadata": {
        "id": "_cIofXrSLZ6Q"
      },
      "source": [
        "\n",
        "data_train = np.load('data_train_p_224.npy')\n",
        "labels_train = np.load('labels_train_p_224.npy')\n"
      ],
      "execution_count": null,
      "outputs": []
    },
    {
      "cell_type": "code",
      "metadata": {
        "id": "HDUI5V6qfTOr",
        "outputId": "fcb5a595-72a4-406c-ed3e-2d10eb751b98",
        "colab": {
          "base_uri": "https://localhost:8080/"
        }
      },
      "source": [
        "data_train.shape"
      ],
      "execution_count": null,
      "outputs": [
        {
          "output_type": "execute_result",
          "data": {
            "text/plain": [
              "(1500, 224, 224, 3)"
            ]
          },
          "metadata": {
            "tags": []
          },
          "execution_count": 5
        }
      ]
    },
    {
      "cell_type": "code",
      "metadata": {
        "id": "ZceVYbq1cGz_"
      },
      "source": [
        "#Shuffling Data\n",
        "indx=np.arange(data_train.shape[0])          \n",
        "np.random.shuffle(indx)\n",
        "data_train = data_train[indx]\n",
        "labels_train = labels_train[indx]"
      ],
      "execution_count": null,
      "outputs": []
    },
    {
      "cell_type": "code",
      "metadata": {
        "id": "EDAqCrVGLaOY"
      },
      "source": [
        "# initialize the training data augmentation object\n",
        "trainAug = ImageDataGenerator(\n",
        "\trotation_range=15\n",
        "  \n",
        "\t)"
      ],
      "execution_count": null,
      "outputs": []
    },
    {
      "cell_type": "code",
      "metadata": {
        "id": "Lv9C4u6PLZ4P"
      },
      "source": [
        "def create_model( ):\n",
        "  \n",
        "  baseModel = InceptionV3(weights=\"imagenet\", include_top=False, input_tensor=Input(shape=(224, 224, 3)))\n",
        "  x = baseModel.output\n",
        "  x = Flatten(name=\"flatten\")(x)\n",
        "  x = Dropout(0.45)(x)\n",
        "  x = Dense(256)(x)\n",
        "  x = BatchNormalization()(x)\n",
        "  x = Activation('relu')(x)\n",
        "  x = Dropout(0.45)(x)\n",
        "  x = Dense(3, activation=\"softmax\")(x)\n",
        "\n",
        "  model = Model(inputs=baseModel.input, outputs=x)\n",
        "  for layer in baseModel.layers: \n",
        "    layer.trainable = True\n",
        "  \n",
        "  opt = SGD(lr=0.0)\n",
        "  print(\"[INFO] compiling model...\")\n",
        "  model.compile(loss=\"categorical_crossentropy\", optimizer=opt, metrics=[\"acc\"])\n",
        "  return model\n",
        "  "
      ],
      "execution_count": null,
      "outputs": []
    },
    {
      "cell_type": "code",
      "metadata": {
        "id": "hcKVtuFIitEN"
      },
      "source": [
        "model = create_model()\n",
        "model.summary()"
      ],
      "execution_count": null,
      "outputs": []
    },
    {
      "cell_type": "code",
      "metadata": {
        "id": "6GHYnQnzLZ2P"
      },
      "source": [
        "from sklearn.model_selection import KFold, StratifiedKFold\n",
        "skf = StratifiedKFold(n_splits = 5, random_state = 7, shuffle = True)"
      ],
      "execution_count": null,
      "outputs": []
    },
    {
      "cell_type": "code",
      "metadata": {
        "id": "mIkqG2JhDT9M"
      },
      "source": [
        "labels = np.argmax(labels_train, axis=1)"
      ],
      "execution_count": null,
      "outputs": []
    },
    {
      "cell_type": "code",
      "metadata": {
        "id": "bzpqMs8s2uc4",
        "outputId": "28498ad9-18e8-4262-db26-fb52f34ec9f9",
        "colab": {
          "base_uri": "https://localhost:8080/"
        }
      },
      "source": [
        "labels.shape"
      ],
      "execution_count": null,
      "outputs": [
        {
          "output_type": "execute_result",
          "data": {
            "text/plain": [
              "(1500,)"
            ]
          },
          "metadata": {
            "tags": []
          },
          "execution_count": 12
        }
      ]
    },
    {
      "cell_type": "code",
      "metadata": {
        "id": "pUahlIWK6wRm",
        "outputId": "fd69eb25-1c66-4cce-a867-cb038ac95756",
        "colab": {
          "base_uri": "https://localhost:8080/",
          "height": 279
        }
      },
      "source": [
        "class StepDecay():\n",
        "\tdef __init__(self, initAlpha=0.002, factor=0.5, dropEvery=10):\n",
        "\t\t# store the base initial learning rate, drop factor, and\n",
        "\t\t# epochs to drop every\n",
        "\t\tself.initAlpha = initAlpha\n",
        "\t\tself.factor = factor\n",
        "\t\tself.dropEvery = dropEvery\n",
        "\tdef __call__(self, epoch):\n",
        "\t\t# compute the learning rate for the current epoch\n",
        "\t\texp = np.floor((1 + epoch) / self.dropEvery)\n",
        "\t\talpha = self.initAlpha * (self.factor ** exp)\n",
        "\t\t# return the learning rate\n",
        "\t\treturn float(alpha)\n",
        "  \n",
        "num_epochs = 50\n",
        "scheduler = StepDecay(initAlpha=0.0045, factor=0.94, dropEvery=2)\n",
        "plt.plot(tensorflow.range(num_epochs+1), [scheduler(t) for t in range(num_epochs+1)])\n",
        "plt.xlabel(\"epochs\")\n",
        "plt.ylabel(\"learning rate\")\n",
        "plt.grid(True)\n",
        "plt.show()"
      ],
      "execution_count": null,
      "outputs": [
        {
          "output_type": "display_data",
          "data": {
            "image/png": "[encoded data removed]",
            "text/plain": [
              "<Figure size 432x288 with 1 Axes>"
            ]
          },
          "metadata": {
            "tags": [],
            "needs_background": "light"
          }
        }
      ]
    },
    {
      "cell_type": "code",
      "metadata": {
        "id": "KzrRXwRR37Fz"
      },
      "source": [
        "tensorflow.keras.backend.clear_session()"
      ],
      "execution_count": null,
      "outputs": []
    },
    {
      "cell_type": "code",
      "metadata": {
        "id": "k7c7vSPDWLZn",
        "outputId": "f11351a7-8757-4416-a584-2c050a8407c9",
        "colab": {
          "base_uri": "https://localhost:8080/"
        }
      },
      "source": [
        "!mkdir covid19_models_cross_val8"
      ],
      "execution_count": null,
      "outputs": [
        {
          "output_type": "stream",
          "text": [
            "mkdir: cannot create directory ‘covid19_models_cross_val8’: File exists\n"
          ],
          "name": "stdout"
        }
      ]
    },
    {
      "cell_type": "code",
      "metadata": {
        "id": "17d2FaSLSP-3"
      },
      "source": [
        "# Training ConvCoroNet using k-fold cross-validation\n",
        "from utils import plot_acc_loss\n",
        "from utils import evaluation_metrics\n",
        "\n",
        "validation_accuracy = []\n",
        "validation_loss = []\n",
        "\n",
        "base_model = \"InceptionV3\"\n",
        "save_dir = 'covid19_models_cross_val8/'\n",
        "fold_var = 1\n",
        "for train_index, val_index in skf.split(np.zeros(len(data_train)),labels):\n",
        "  \n",
        "  training_data = data_train[train_index]\n",
        "  training_labels = labels_train[train_index]\n",
        "  validation_data = data_train[val_index]\n",
        "  validation_labels = labels_train[val_index]\n",
        "\n",
        "  model = create_model()\n",
        "  best_model_path = save_dir + 'model_' + base_model + '-' + str(fold_var) + '.h5'\n",
        "  mcp_save = ModelCheckpoint(best_model_path, save_best_only=True, monitor='val_acc', mode='max', verbose=1)\n",
        "  scheduler = StepDecay(initAlpha=0.0045, factor=0.94, dropEvery=2)\n",
        "  lrs = LearningRateScheduler(scheduler)\n",
        "  callbacks = [ mcp_save, lrs]\n",
        "  print(\"[INFO] training K-Fold...step: \" + str(fold_var))\n",
        "  EPOCHS=50\n",
        "  BS_tr=10\n",
        "  BS_val = 10\n",
        "  H = model.fit_generator(\n",
        "    trainAug.flow(training_data, training_labels, batch_size=BS_tr),\n",
        "    steps_per_epoch=len(training_data) // BS_tr ,\n",
        "    validation_data=(validation_data, validation_labels),\n",
        "    validation_steps=len(validation_data) // BS_val ,\n",
        "    epochs=EPOCHS, callbacks=callbacks,\n",
        "    shuffle=True)\n",
        "  \n",
        "  np.save(save_dir + 'history_' + base_model + '-' + str(fold_var) + '.npy', H.history)\n",
        "  plot_acc_loss(H, 50)\n",
        "\n",
        "  model.load_weights(best_model_path)\n",
        "  results = model.evaluate(validation_data, validation_labels)\n",
        "  results = dict(zip(model.metrics_names,results))\n",
        "  \n",
        "  validation_accuracy.append(results['acc'])\n",
        "  validation_loss.append(results['loss'])\n",
        "\n",
        "  plt.figure()\n",
        "  plt.show()\n",
        "\n",
        "  evaluation_metrics(model, validation_data, validation_labels, fold_var, BS_val)\n",
        "  \n",
        "  tensorflow.keras.backend.clear_session()\n",
        "    \n",
        "  fold_var = fold_var + 1"
      ],
      "execution_count": null,
      "outputs": []
    },
    {
      "cell_type": "code",
      "metadata": {
        "id": "1FLshNwVdRWI",
        "outputId": "3ef9ed93-bbd5-4292-a4bc-91ad02affbfc",
        "colab": {
          "base_uri": "https://localhost:8080/"
        }
      },
      "source": [
        "print(validation_accuracy)\n",
        "print(validation_loss)"
      ],
      "execution_count": null,
      "outputs": [
        {
          "output_type": "stream",
          "text": [
            "[0.9833333492279053, 0.9933333396911621, 0.9900000095367432, 0.9833333492279053, 0.9833333492279053]\n",
            "[0.07455717027187347, 0.03814205899834633, 0.04812905564904213, 0.0962536409497261, 0.07404368370771408]\n"
          ],
          "name": "stdout"
        }
      ]
    },
    {
      "cell_type": "code",
      "metadata": {
        "id": "U5_QLP-mdRkE",
        "outputId": "e52a7537-55f0-4272-8203-4c6d59d14200",
        "colab": {
          "base_uri": "https://localhost:8080/"
        }
      },
      "source": [
        "print(np.mean(validation_accuracy))\n",
        "print(np.std(validation_accuracy))"
      ],
      "execution_count": null,
      "outputs": [
        {
          "output_type": "stream",
          "text": [
            "0.9866666793823242\n",
            "0.004216366192513858\n"
          ],
          "name": "stdout"
        }
      ]
    },
    {
      "cell_type": "code",
      "metadata": {
        "id": "IBlL0fN-wZTN"
      },
      "source": [
        ""
      ],
      "execution_count": null,
      "outputs": []
    },
    {
      "cell_type": "code",
      "metadata": {
        "id": "wfi-u7SWwZN5"
      },
      "source": [
        ""
      ],
      "execution_count": null,
      "outputs": []
    },
    {
      "cell_type": "code",
      "metadata": {
        "id": "c4Z3X_46SP21"
      },
      "source": [
        "\n"
      ],
      "execution_count": null,
      "outputs": []
    },
    {
      "cell_type": "code",
      "metadata": {
        "id": "1di7064yrQtL"
      },
      "source": [
        ""
      ],
      "execution_count": null,
      "outputs": []
    },
    {
      "cell_type": "code",
      "metadata": {
        "id": "-gILCHboSP1J"
      },
      "source": [
        ""
      ],
      "execution_count": null,
      "outputs": []
    },
    {
      "cell_type": "code",
      "metadata": {
        "id": "C3MAhHCbtj7G"
      },
      "source": [
        ""
      ],
      "execution_count": null,
      "outputs": []
    },
    {
      "cell_type": "code",
      "metadata": {
        "id": "yCH69l9FSpVv"
      },
      "source": [
        ""
      ],
      "execution_count": null,
      "outputs": []
    },
    {
      "cell_type": "code",
      "metadata": {
        "id": "gOMex8rI5hpY"
      },
      "source": [
        ""
      ],
      "execution_count": null,
      "outputs": []
    },
    {
      "cell_type": "code",
      "metadata": {
        "id": "pBkstpvASPzW"
      },
      "source": [
        ""
      ],
      "execution_count": null,
      "outputs": []
    },
    {
      "cell_type": "code",
      "metadata": {
        "id": "yeXJVUI6SPvw"
      },
      "source": [
        ""
      ],
      "execution_count": null,
      "outputs": []
    }
  ]
}