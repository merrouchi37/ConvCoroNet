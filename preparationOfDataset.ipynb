{
 "cells": [
  {
   "cell_type": "code",
   "execution_count": 3,
   "id": "d9c6e615",
   "metadata": {},
   "outputs": [],
   "source": [
    "from tensorflow.keras.utils import to_categorical\n",
    "from sklearn.preprocessing import LabelBinarizer, LabelEncoder\n",
    "from imutils import paths\n",
    "import numpy as np\n",
    "import os\n",
    "import cv2\n",
    "import shutil\n",
    "from glob import glob"
   ]
  },
  {
   "cell_type": "code",
   "execution_count": 4,
   "id": "ada744cc",
   "metadata": {},
   "outputs": [
    {
     "name": "stdout",
     "output_type": "stream",
     "text": [
      "[INFO] loading training images...\n"
     ]
    }
   ],
   "source": [
    "# list of images in the dataset directory\n",
    "print(\"[INFO] loading training images...\")\n",
    "imagePaths = list(paths.list_images('covid19_dataset'))\n",
    "\n",
    "# initialize the list of data (i.e., images) and class images\n",
    "data_train = []\n",
    "labels_train = []\n",
    "\n",
    "# loop over the image paths\n",
    "for imagePath in imagePaths:\n",
    "    # extract the class label from the filename\n",
    "    label = imagePath.split(os.path.sep)[-2]\n",
    "    # load the image, swap color channels, and resize it to be a fixed\n",
    "    # 224x224 pixels \n",
    "    image = cv2.imread(imagePath)\n",
    "    image = cv2.cvtColor(image, cv2.COLOR_BGR2RGB)\n",
    "    image = cv2.resize(image, (224, 224))\n",
    "\n",
    "    # Append to data and labels lists, respectively\n",
    "    data_train.append(image)\n",
    "    labels_train.append(label)"
   ]
  },
  {
   "cell_type": "code",
   "execution_count": 5,
   "id": "39a064fa",
   "metadata": {},
   "outputs": [
    {
     "data": {
      "text/plain": [
       "3000"
      ]
     },
     "execution_count": 5,
     "metadata": {},
     "output_type": "execute_result"
    }
   ],
   "source": [
    "# verify the length of lists\n",
    "len(labels_train)"
   ]
  },
  {
   "cell_type": "code",
   "execution_count": 6,
   "id": "742a9fe3",
   "metadata": {},
   "outputs": [],
   "source": [
    "# convert the data and labels to NumPy arrays and scale the pixel\n",
    "# intensities to the range [0, 1]\n",
    "data_train = np.array(data_train)/255.0 \n",
    "labels_train = np.array(labels_train)"
   ]
  },
  {
   "cell_type": "code",
   "execution_count": 7,
   "id": "04a71df5",
   "metadata": {},
   "outputs": [],
   "source": [
    "# perform one-hot encoding on the labels\n",
    "le = LabelEncoder()\n",
    "labels_train = le.fit_transform(labels_train)\n",
    "labels_train = to_categorical(labels_train)"
   ]
  },
  {
   "cell_type": "code",
   "execution_count": 8,
   "id": "7f60a75b",
   "metadata": {},
   "outputs": [],
   "source": [
    "# save the training data in two numpy arrays\n",
    "np.save('new_3000_data_train_224.npy', data_train)\n",
    "np.save('new_3000_labels_train_224.npy', labels_train)"
   ]
  },
  {
   "cell_type": "code",
   "execution_count": null,
   "id": "4db8bd0b",
   "metadata": {},
   "outputs": [],
   "source": []
  }
 ],
 "metadata": {
  "kernelspec": {
   "display_name": "python 3.8 (tfdl)",
   "language": "python",
   "name": "tfdl"
  },
  "language_info": {
   "codemirror_mode": {
    "name": "ipython",
    "version": 3
   },
   "file_extension": ".py",
   "mimetype": "text/x-python",
   "name": "python",
   "nbconvert_exporter": "python",
   "pygments_lexer": "ipython3",
   "version": "3.8.13"
  }
 },
 "nbformat": 4,
 "nbformat_minor": 5
}
